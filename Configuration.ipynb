{
 "cells": [
  {
   "cell_type": "code",
   "execution_count": 4,
   "metadata": {},
   "outputs": [],
   "source": [
    "File_path = {\n",
    "    \"circuits\": \"Raw Data/circuits.csv\",\n",
    "    \"constructor_results\": \"Raw Data/constructor_results.csv\",\n",
    "    \"constructor_standings\": \"Raw Data/constructor_standings.csv\",\n",
    "    \"constructors\": \"Raw Data/constructors.csv\",\n",
    "    \"driver_standings\": \"Raw Data/driver_standings.csv\",\n",
    "    \"drivers\": \"Raw Data/drivers.csv\",\n",
    "    \"lap_times\": \"Raw Data/lap_times.csv\",\n",
    "    \"pit_stops\": \"Raw Data/pit_stops.csv\",\n",
    "    \"qualifying\": \"Raw Data/qualifying.csv\",\n",
    "    \"races\": \"Raw Data/races.csv\",\n",
    "    \"results\": \"Raw Data/results.csv\",\n",
    "    \"seasons\": \"Raw Data/seasons.csv\",\n",
    "    \"sprint_results\": \"Raw Data/sprint_results.csv\",\n",
    "    \"status\": \"Raw Data/status.csv\"\n",
    "}"
   ]
  }
 ],
 "metadata": {
  "kernelspec": {
   "display_name": ".venv",
   "language": "python",
   "name": "python3"
  },
  "language_info": {
   "codemirror_mode": {
    "name": "ipython",
    "version": 3
   },
   "file_extension": ".py",
   "mimetype": "text/x-python",
   "name": "python",
   "nbconvert_exporter": "python",
   "pygments_lexer": "ipython3",
   "version": "3.9.16"
  }
 },
 "nbformat": 4,
 "nbformat_minor": 2
}
