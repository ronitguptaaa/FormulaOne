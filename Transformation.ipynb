{
 "cells": [
  {
   "cell_type": "code",
   "execution_count": 124,
   "metadata": {},
   "outputs": [],
   "source": [
    "%run Requirements.ipynb"
   ]
  },
  {
   "cell_type": "markdown",
   "metadata": {},
   "source": [
    "Consolidated Race Results With Drivers and Constructors"
   ]
  },
  {
   "cell_type": "code",
   "execution_count": 88,
   "metadata": {},
   "outputs": [],
   "source": [
    "df = spark.sql(\n",
    "    \"\"\"WITH RaceDriverStandings AS (\n",
    "    SELECT\n",
    "        CAST(R.raceid AS INT) AS RaceID,\n",
    "        CAST(R.year AS INT) AS Year,\n",
    "        CAST(R.round AS INT) AS Round,\n",
    "        CAST(R.circuitid AS INT) AS CircuitID,\n",
    "        CAST(R.name AS STRING) AS RaceName,\n",
    "        CAST(R.date AS DATE) AS RaceDate,\n",
    "        CAST(R.time AS STRING) AS RaceTime,\n",
    "        CAST(DS.driverid AS INT) AS DriverID,\n",
    "        CAST(DS.points AS INT) AS DriverPoints,\n",
    "        CAST(DS.position AS INT) AS DriverPosition\n",
    "    FROM\n",
    "        PARQUET.`/Users/ronitguptaaa/Documents/FormulaOne/StagingData/races` AS R\n",
    "    INNER JOIN\n",
    "        PARQUET.`/Users/ronitguptaaa/Documents/FormulaOne/StagingData/driver_standings` AS DS ON R.raceId = DS.raceId\n",
    "),\n",
    "RaceConstructorStandings AS (\n",
    "    SELECT\n",
    "        CAST(R.raceid AS INT) AS RaceID,\n",
    "        CAST(CS.constructorId AS INT) AS ConstructorID,\n",
    "        CAST(CS.points AS INT) AS ConstructorPoints,\n",
    "        CAST(CS.position AS INT) AS ConstructorPosition\n",
    "    FROM\n",
    "        PARQUET.`/Users/ronitguptaaa/Documents/FormulaOne/StagingData/races` AS R\n",
    "    INNER JOIN\n",
    "        PARQUET.`/Users/ronitguptaaa/Documents/FormulaOne/StagingData/constructor_standings` AS CS ON R.raceId = CS.raceId\n",
    ")\n",
    "SELECT\n",
    "    R.RaceID,\n",
    "    R.Year,\n",
    "    R.Round,\n",
    "    R.CircuitID,\n",
    "    R.RaceName,\n",
    "    R.RaceDate,\n",
    "    R.RaceTime,\n",
    "    R.DriverID,\n",
    "    R.DriverPoints,\n",
    "    R.DriverPosition,\n",
    "    CS.ConstructorID,\n",
    "    CS.ConstructorPoints,\n",
    "    CS.ConstructorPosition,\n",
    "    RS.Laps,\n",
    "    RS.Grid,\n",
    "    RS.FastestLap,\n",
    "    RS.FastestLapTime,\n",
    "    RS.FastestLapSpeed,\n",
    "    RS.StatusID,\n",
    "    CONCAT(R.RaceID,'-',R.DriverID) AS RaceDriverID,\n",
    "    CONCAT(R.RaceID,'-',R.DriverID,'-',CS.ConstructorID) AS RaceDriverConstructorID\n",
    "FROM\n",
    "    RaceDriverStandings AS R\n",
    "INNER JOIN\n",
    "    RaceConstructorStandings AS CS ON R.RaceID = CS.RaceID\n",
    "INNER JOIN\n",
    "    PARQUET.`/Users/ronitguptaaa/Documents/FormulaOne/StagingData/results` AS RS ON R.RaceID = RS.RaceID AND R.DriverID = RS.DriverID AND CS.ConstructorID = RS.ConstructorID\"\"\"\n",
    ")\n",
    "\n",
    "df.write.mode(\"overwrite\").format('parquet').options(header=True).save('MartData/TotalRaceResults')"
   ]
  },
  {
   "cell_type": "markdown",
   "metadata": {},
   "source": [
    "Driver Details"
   ]
  },
  {
   "cell_type": "code",
   "execution_count": 51,
   "metadata": {},
   "outputs": [],
   "source": [
    "df = spark.sql(\n",
    "    \"\"\"SELECT \n",
    "    CAST(driverid AS INT) AS DriverID,\n",
    "    CAST(CONCAT(forename,' ',surname) AS STRING) AS DriverName,\n",
    "    CAST(dob AS DATE) AS DateOfBirth,\n",
    "    CAST(nationality AS STRING) AS Nationality\n",
    "    FROM PARQUET.`/Users/ronitguptaaa/Documents/FormulaOne/StagingData/drivers`\"\"\"\n",
    ")\n",
    "\n",
    "df.write.mode('overwrite').format('parquet').options(header=True).save('MartData/DriverDetails')"
   ]
  },
  {
   "cell_type": "markdown",
   "metadata": {},
   "source": [
    "Constructor Details"
   ]
  },
  {
   "cell_type": "code",
   "execution_count": 55,
   "metadata": {},
   "outputs": [],
   "source": [
    "df = spark.sql(\n",
    "    \"\"\"SELECT \n",
    "        CAST(constructorid AS INT) AS ConstructorID,\n",
    "        CAST(name AS STRING) AS ConstructorName,\n",
    "        CAST(nationality AS STRING) AS Nationality\n",
    "    FROM PARQUET.`/Users/ronitguptaaa/Documents/FormulaOne/StagingData/constructors`\"\"\"\n",
    ")\n",
    "\n",
    "df.write.mode('overwrite').format('parquet').options(header=True).save('MartData/ConstructorDetails')"
   ]
  },
  {
   "cell_type": "markdown",
   "metadata": {},
   "source": [
    "Circuits Details"
   ]
  },
  {
   "cell_type": "code",
   "execution_count": 58,
   "metadata": {},
   "outputs": [],
   "source": [
    "df = spark.sql(\n",
    "    \"\"\"SELECT \n",
    "        CAST(circuitid AS INT) AS CircuitID,\n",
    "        CAST(name AS STRING) AS CircuitName,\n",
    "        CAST(location AS STRING) AS CircuitLocation,\n",
    "        CAST(country AS STRING) AS Country\n",
    "    FROM PARQUET.`/Users/ronitguptaaa/Documents/FormulaOne/StagingData/circuits`\"\"\"\n",
    ")\n",
    "\n",
    "df.write.mode('overwrite').format('parquet').options(header=True).save('MartData/CircuitDetails')"
   ]
  },
  {
   "cell_type": "markdown",
   "metadata": {},
   "source": [
    "Qualifying Details"
   ]
  },
  {
   "cell_type": "code",
   "execution_count": 92,
   "metadata": {},
   "outputs": [],
   "source": [
    "df = spark.sql(\n",
    "    \"\"\"SELECT \n",
    "        CAST(qualifyid AS INT) AS QualifyID,\n",
    "        CAST(raceid AS INT) AS RaceID,\n",
    "        CAST(driverid AS INT) AS DriverID,\n",
    "        CAST(constructorid AS INT) AS ConstructorID,\n",
    "        CAST(position AS INT) AS Position,\n",
    "        CAST(q1 AS STRING) AS Q1,\n",
    "        CAST(q2 AS STRING) AS Q2,\n",
    "        CAST(q3 AS STRING) AS Q3,\n",
    "        CONCAT(RaceID,'-',DriverID,'-',ConstructorID) AS RaceDriverConstructorID\n",
    "    FROM PARQUET.`/Users/ronitguptaaa/Documents/FormulaOne/StagingData/qualifying`\"\"\"\n",
    ")\n",
    "\n",
    "df.write.mode('overwrite').format('parquet').options(header=True).save('MartData/QualifyingDetails')"
   ]
  },
  {
   "cell_type": "markdown",
   "metadata": {},
   "source": [
    "Lap Time Details"
   ]
  },
  {
   "cell_type": "code",
   "execution_count": 165,
   "metadata": {},
   "outputs": [],
   "source": [
    "df = spark.sql(\"\"\"WITH MillisecondsToSeconds AS (\n",
    "    SELECT \n",
    "        raceid, \n",
    "        driverid, \n",
    "        SUM(milliseconds) AS total_seconds\n",
    "    FROM \n",
    "        PARQUET.`/Users/ronitguptaaa/Documents/FormulaOne/StagingData/lap_times`\n",
    "    GROUP BY \n",
    "        raceid, driverid\n",
    ")\n",
    "SELECT \n",
    "    CAST(ms.raceid AS INT) AS RaceID, \n",
    "    CAST(ms.driverid AS INT) AS DriverID, \n",
    "    DATE_FORMAT(from_unixtime(ms.total_seconds), 'HH:mm:ss') AS total_time,\n",
    "    CONCAT(RaceID,'-',DriveRID) AS RaceDriverID\n",
    "FROM \n",
    "    MillisecondsToSeconds ms;\n",
    "\n",
    "\"\"\")\n",
    "\n",
    "df.write.mode('overwrite').format('parquet').options(header=True).save('MartData/LapTimeData')"
   ]
  }
 ],
 "metadata": {
  "kernelspec": {
   "display_name": ".venv",
   "language": "python",
   "name": "python3"
  },
  "language_info": {
   "codemirror_mode": {
    "name": "ipython",
    "version": 3
   },
   "file_extension": ".py",
   "mimetype": "text/x-python",
   "name": "python",
   "nbconvert_exporter": "python",
   "pygments_lexer": "ipython3",
   "version": "3.9.16"
  }
 },
 "nbformat": 4,
 "nbformat_minor": 2
}
