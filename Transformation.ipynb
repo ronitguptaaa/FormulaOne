{
 "cells": [
  {
   "cell_type": "code",
   "execution_count": 1,
   "metadata": {},
   "outputs": [
    {
     "name": "stdout",
     "output_type": "stream",
     "text": [
      "Warning: Your Kaggle API key is readable by other users on this system! To fix this, you can run 'chmod 600 /Users/ronitguptaaa/.kaggle/kaggle.json'\n"
     ]
    },
    {
     "name": "stderr",
     "output_type": "stream",
     "text": [
      "24/05/08 23:12:41 WARN Utils: Your hostname, Ronits-MacBook-Air.local resolves to a loopback address: 127.0.0.1; using 192.168.1.7 instead (on interface en0)\n",
      "24/05/08 23:12:41 WARN Utils: Set SPARK_LOCAL_IP if you need to bind to another address\n",
      "Setting default log level to \"WARN\".\n",
      "To adjust logging level use sc.setLogLevel(newLevel). For SparkR, use setLogLevel(newLevel).\n",
      "24/05/08 23:12:42 WARN NativeCodeLoader: Unable to load native-hadoop library for your platform... using builtin-java classes where applicable\n",
      "24/05/08 23:12:43 WARN Utils: Service 'SparkUI' could not bind on port 4040. Attempting port 4041.\n",
      "24/05/08 23:12:43 WARN Utils: Service 'SparkUI' could not bind on port 4041. Attempting port 4042.\n"
     ]
    }
   ],
   "source": [
    "%run Requirements.ipynb"
   ]
  },
  {
   "cell_type": "code",
   "execution_count": 2,
   "metadata": {},
   "outputs": [],
   "source": [
    "conn = mysql.connector.connect(\n",
    "    host='127.0.0.1',\n",
    "    user='root',\n",
    "    password='ronitgupta28',\n",
    "    database='formulaOne'\n",
    ")\n",
    "cursor = conn.cursor()"
   ]
  },
  {
   "cell_type": "markdown",
   "metadata": {},
   "source": [
    "Consolidated Race Results With Drivers and Constructors"
   ]
  },
  {
   "cell_type": "code",
   "execution_count": 24,
   "metadata": {},
   "outputs": [],
   "source": [
    "df = spark.sql(\n",
    "    \"\"\"WITH RaceDriverStandings AS (\n",
    "    SELECT\n",
    "        CAST(R.raceid AS INT) AS RaceID,\n",
    "        CAST(R.year AS INT) AS Year,\n",
    "        CAST(R.round AS INT) AS Round,\n",
    "        CAST(R.circuitid AS INT) AS CircuitID,\n",
    "        CAST(R.name AS STRING) AS RaceName,\n",
    "        R.date AS RaceDate,\n",
    "        CAST(R.time AS STRING) AS RaceTime,\n",
    "        CAST(DS.driverid AS INT) AS DriverID,\n",
    "        CAST(DS.points AS INT) AS DriverPoints,\n",
    "        CAST(DS.position AS INT) AS DriverPosition\n",
    "    FROM\n",
    "        PARQUET.`/Users/ronitguptaaa/Documents/FormulaOne/StagingData/races` AS R\n",
    "    INNER JOIN\n",
    "        PARQUET.`/Users/ronitguptaaa/Documents/FormulaOne/StagingData/driver_standings` AS DS ON R.raceId = DS.raceId\n",
    "),\n",
    "RaceConstructorStandings AS (\n",
    "    SELECT\n",
    "        CAST(R.raceid AS INT) AS RaceID,\n",
    "        CAST(CS.constructorId AS INT) AS ConstructorID,\n",
    "        CAST(CS.points AS INT) AS ConstructorPoints,\n",
    "        CAST(CS.position AS INT) AS ConstructorPosition\n",
    "    FROM\n",
    "        PARQUET.`/Users/ronitguptaaa/Documents/FormulaOne/StagingData/races` AS R\n",
    "    INNER JOIN\n",
    "        PARQUET.`/Users/ronitguptaaa/Documents/FormulaOne/StagingData/constructor_standings` AS CS ON R.raceId = CS.raceId\n",
    ")\n",
    "SELECT\n",
    "    R.RaceID,\n",
    "    R.Year,\n",
    "    R.Round,\n",
    "    R.CircuitID,\n",
    "    R.RaceName,\n",
    "    R.RaceDate,\n",
    "    R.RaceTime,\n",
    "    R.DriverID,\n",
    "    R.DriverPoints,\n",
    "    R.DriverPosition,\n",
    "    CS.ConstructorID,\n",
    "    CS.ConstructorPoints,\n",
    "    CS.ConstructorPosition,\n",
    "    RS.Laps,\n",
    "    RS.Grid,\n",
    "    RS.FastestLap,\n",
    "    RS.FastestLapTime,\n",
    "    RS.FastestLapSpeed,\n",
    "    RS.StatusID,\n",
    "    CONCAT(R.RaceID,'-',R.DriverID) AS RaceDriverID,\n",
    "    CONCAT(R.RaceID,'-',R.DriverID,'-',CS.ConstructorID) AS RaceDriverConstructorID\n",
    "FROM\n",
    "    RaceDriverStandings AS R\n",
    "INNER JOIN\n",
    "    RaceConstructorStandings AS CS ON R.RaceID = CS.RaceID\n",
    "INNER JOIN\n",
    "    PARQUET.`/Users/ronitguptaaa/Documents/FormulaOne/StagingData/results` AS RS ON R.RaceID = RS.RaceID AND R.DriverID = RS.DriverID AND CS.ConstructorID = RS.ConstructorID\"\"\"\n",
    ")\n",
    "\n",
    "df.write.mode(\"overwrite\").format('parquet').options(header=True).save('MartData/TotalRaceResults')"
   ]
  },
  {
   "cell_type": "code",
   "execution_count": 25,
   "metadata": {},
   "outputs": [],
   "source": [
    "df = pd.read_parquet('/Users/ronitguptaaa/Documents/FormulaOne/MartData/TotalRaceResults')\n",
    "\n",
    "columns = \", \".join([f\"`{col}` VARCHAR(255)\" for col in df.columns])\n",
    "\n",
    "drop_table_query = f\"DROP TABLE IF EXISTS TotalRaceResults;\"\n",
    "cursor.execute(drop_table_query)\n",
    "create_table_query = f\"CREATE TABLE IF NOT EXISTS TotalRaceResults ({columns});\"\n",
    "cursor.execute(create_table_query)\n",
    "\n",
    "for index, row in df.iterrows():\n",
    "    values = tuple(row.values)\n",
    "    insert_query = f\"REPLACE INTO TotalRaceResults VALUES {values};\"\n",
    "    cursor.execute(insert_query)\n",
    "\n",
    "conn.commit()"
   ]
  },
  {
   "cell_type": "code",
   "execution_count": 26,
   "metadata": {},
   "outputs": [],
   "source": [
    "df = pd.read_parquet('/Users/ronitguptaaa/Documents/FormulaOne/MartData/TotalRaceResults')\n",
    "\n",
    "columns = \", \".join([f\"`{col}` VARCHAR(255)\" for col in df.columns])\n",
    "\n",
    "drop_table_query = f\"DROP VIEW IF EXISTS vw_TotalRaceResults;\"\n",
    "cursor.execute(drop_table_query)\n",
    "create_table_query = f\"\"\"CREATE VIEW vw_TotalRaceResults AS (SELECT * FROM TotalRaceResults);\"\"\"\n",
    "cursor.execute(create_table_query)\n",
    "\n",
    "conn.commit()"
   ]
  },
  {
   "cell_type": "markdown",
   "metadata": {},
   "source": [
    "Driver Details"
   ]
  },
  {
   "cell_type": "code",
   "execution_count": 27,
   "metadata": {},
   "outputs": [],
   "source": [
    "df = spark.sql(\n",
    "    \"\"\"SELECT \n",
    "    CAST(driverid AS INT) AS DriverID,\n",
    "    CAST(CONCAT(forename,' ',surname) AS STRING) AS DriverName,\n",
    "    dob AS DateOfBirth,\n",
    "    CAST(nationality AS STRING) AS Nationality\n",
    "    FROM PARQUET.`/Users/ronitguptaaa/Documents/FormulaOne/StagingData/drivers`\"\"\"\n",
    ")\n",
    "\n",
    "df.write.mode('overwrite').format('parquet').options(header=True).save('MartData/DriverDetails')"
   ]
  },
  {
   "cell_type": "code",
   "execution_count": 28,
   "metadata": {},
   "outputs": [],
   "source": [
    "df = pd.read_parquet(\"/Users/ronitguptaaa/Documents/FormulaOne/MartData/DriverDetails\")\n",
    "\n",
    "columns = \", \".join([f\"`{col}` VARCHAR(255)\" for col in df.columns])\n",
    "\n",
    "drop_table_query = f\"DROP TABLE IF EXISTS DriverDetails;\"\n",
    "cursor.execute(drop_table_query)\n",
    "create_table_query = f\"CREATE TABLE IF NOT EXISTS DriverDetails ({columns});\"\n",
    "cursor.execute(create_table_query)\n",
    "\n",
    "for index, row in df.iterrows():\n",
    "    values = tuple(row.values)\n",
    "    insert_query = f\"REPLACE INTO DriverDetails VALUES {values};\"\n",
    "    cursor.execute(insert_query)\n",
    "\n",
    "conn.commit()"
   ]
  },
  {
   "cell_type": "code",
   "execution_count": 29,
   "metadata": {},
   "outputs": [],
   "source": [
    "df = pd.read_parquet(\"/Users/ronitguptaaa/Documents/FormulaOne/MartData/DriverDetails\")\n",
    "\n",
    "columns = \", \".join([f\"`{col}` VARCHAR(255)\" for col in df.columns])\n",
    "\n",
    "drop_table_query = f\"DROP VIEW IF EXISTS vw_DriverDetails;\"\n",
    "cursor.execute(drop_table_query)\n",
    "create_table_query = f\"CREATE VIEW vw_DriverDetails AS (SELECT * FROM DriverDetails);\"\n",
    "cursor.execute(create_table_query)\n",
    "\n",
    "\n",
    "conn.commit()"
   ]
  },
  {
   "cell_type": "markdown",
   "metadata": {},
   "source": [
    "Constructor Details"
   ]
  },
  {
   "cell_type": "code",
   "execution_count": 30,
   "metadata": {},
   "outputs": [],
   "source": [
    "df = spark.sql(\n",
    "    \"\"\"SELECT \n",
    "        CAST(constructorid AS INT) AS ConstructorID,\n",
    "        CAST(name AS STRING) AS ConstructorName,\n",
    "        CAST(nationality AS STRING) AS Nationality\n",
    "    FROM PARQUET.`/Users/ronitguptaaa/Documents/FormulaOne/StagingData/constructors`\"\"\"\n",
    ")\n",
    "\n",
    "df.write.mode('overwrite').format('parquet').options(header=True).save('MartData/ConstructorDetails')"
   ]
  },
  {
   "cell_type": "code",
   "execution_count": 31,
   "metadata": {},
   "outputs": [],
   "source": [
    "df = pd.read_parquet(\"/Users/ronitguptaaa/Documents/FormulaOne/MartData/ConstructorDetails\")\n",
    "\n",
    "columns = \", \".join([f\"`{col}` VARCHAR(255)\" for col in df.columns])\n",
    "\n",
    "drop_table_query = f\"DROP TABLE IF EXISTS ConstructorDetails;\"\n",
    "cursor.execute(drop_table_query)\n",
    "create_table_query = f\"CREATE TABLE IF NOT EXISTS ConstructorDetails ({columns});\"\n",
    "cursor.execute(create_table_query)\n",
    "\n",
    "for index, row in df.iterrows():\n",
    "    values = tuple(row.values)\n",
    "    insert_query = f\"REPLACE INTO ConstructorDetails VALUES {values};\"\n",
    "    cursor.execute(insert_query)\n",
    "\n",
    "conn.commit()"
   ]
  },
  {
   "cell_type": "code",
   "execution_count": 32,
   "metadata": {},
   "outputs": [],
   "source": [
    "df = pd.read_parquet(\"/Users/ronitguptaaa/Documents/FormulaOne/MartData/ConstructorDetails\")\n",
    "\n",
    "columns = \", \".join([f\"`{col}` VARCHAR(255)\" for col in df.columns])\n",
    "\n",
    "drop_table_query = f\"DROP VIEW IF EXISTS vw_ConstructorDetails;\"\n",
    "cursor.execute(drop_table_query)\n",
    "create_table_query = f\"CREATE VIEW vw_ConstructorDetails AS (SELECT * FROM ConstructorDetails);\"\n",
    "cursor.execute(create_table_query)\n",
    "\n",
    "conn.commit()"
   ]
  },
  {
   "cell_type": "markdown",
   "metadata": {},
   "source": [
    "Circuits Details"
   ]
  },
  {
   "cell_type": "code",
   "execution_count": 33,
   "metadata": {},
   "outputs": [],
   "source": [
    "df = spark.sql(\n",
    "    \"\"\"SELECT \n",
    "        CAST(circuitid AS INT) AS CircuitID,\n",
    "        CAST(name AS STRING) AS CircuitName,\n",
    "        CAST(location AS STRING) AS CircuitLocation,\n",
    "        CAST(country AS STRING) AS Country\n",
    "    FROM PARQUET.`/Users/ronitguptaaa/Documents/FormulaOne/StagingData/circuits`\"\"\"\n",
    ")\n",
    "\n",
    "df.write.mode('overwrite').format('parquet').options(header=True).save('MartData/CircuitDetails')"
   ]
  },
  {
   "cell_type": "code",
   "execution_count": 34,
   "metadata": {},
   "outputs": [],
   "source": [
    "from pyspark.sql.functions import when\n",
    "\n",
    "df = spark.read.parquet(\"/Users/ronitguptaaa/Documents/FormulaOne/MartData/CircuitDetails\")\n",
    "\n",
    "# Perform the update using DataFrame transformations\n",
    "df = df.withColumn(\"Country\", when(df[\"Country\"] == \"United States\", \"USA\").otherwise(df[\"Country\"]))\n"
   ]
  },
  {
   "cell_type": "code",
   "execution_count": null,
   "metadata": {},
   "outputs": [],
   "source": []
  },
  {
   "cell_type": "code",
   "execution_count": 35,
   "metadata": {},
   "outputs": [],
   "source": [
    "df = pd.read_parquet(\"/Users/ronitguptaaa/Documents/FormulaOne/MartData/CircuitDetails\")\n",
    "\n",
    "columns = \", \".join([f\"`{col}` VARCHAR(255)\" for col in df.columns])\n",
    "\n",
    "drop_table_query = f\"DROP TABLE IF EXISTS CircuitDetails;\"\n",
    "cursor.execute(drop_table_query)\n",
    "create_table_query = f\"CREATE TABLE IF NOT EXISTS CircuitDetails ({columns});\"\n",
    "cursor.execute(create_table_query)\n",
    "\n",
    "for index, row in df.iterrows():\n",
    "    values = tuple(row.values)\n",
    "    insert_query = f\"REPLACE INTO CircuitDetails VALUES {values};\"\n",
    "    cursor.execute(insert_query)\n",
    "\n",
    "conn.commit()"
   ]
  },
  {
   "cell_type": "code",
   "execution_count": 36,
   "metadata": {},
   "outputs": [],
   "source": [
    "df = pd.read_parquet(\"/Users/ronitguptaaa/Documents/FormulaOne/MartData/CircuitDetails\")\n",
    "\n",
    "columns = \", \".join([f\"`{col}` VARCHAR(255)\" for col in df.columns])\n",
    "\n",
    "drop_table_query = f\"DROP VIEW IF EXISTS vw_CircuitDetails;\"\n",
    "cursor.execute(drop_table_query)\n",
    "create_table_query = f\"CREATE VIEW vw_CircuitDetails AS (SELECT * FROM CircuitDetails);\"\n",
    "cursor.execute(create_table_query)\n",
    "\n",
    "conn.commit()"
   ]
  },
  {
   "cell_type": "markdown",
   "metadata": {},
   "source": [
    "Qualifying Details"
   ]
  },
  {
   "cell_type": "code",
   "execution_count": 7,
   "metadata": {},
   "outputs": [],
   "source": [
    "df = spark.sql(\n",
    "    \"\"\"SELECT \n",
    "        CAST(qualifyid AS INT) AS QualifyID,\n",
    "        CAST(raceid AS INT) AS RaceID,\n",
    "        CAST(driverid AS INT) AS DriverID,\n",
    "        CAST(constructorid AS INT) AS ConstructorID,\n",
    "        CAST(position AS INT) AS Position,\n",
    "        CAST(q1 AS STRING) AS Q1,\n",
    "        CAST(q2 AS STRING) AS Q2,\n",
    "        CAST(q3 AS STRING) AS Q3,\n",
    "        CONCAT(RaceID,'-',DriverID,'-',ConstructorID) AS RaceDriverConstructorID\n",
    "    FROM PARQUET.`/Users/ronitguptaaa/Documents/FormulaOne/StagingData/qualifying`\"\"\"\n",
    ")\n",
    "\n",
    "df.write.mode('overwrite').format('parquet').options(header=True).save('MartData/QualifyingDetails')\n"
   ]
  },
  {
   "cell_type": "code",
   "execution_count": 8,
   "metadata": {},
   "outputs": [],
   "source": [
    "df = pd.read_parquet(\"/Users/ronitguptaaa/Documents/FormulaOne/MartData/QualifyingDetails\")\n",
    "\n",
    "df.fillna(value=np.nan, inplace=True)\n",
    "\n",
    "df.replace({np.nan: \"NULL\"}, inplace=True)\n",
    "\n",
    "columns = \", \".join([f\"`{col}` VARCHAR(255)\" for col in df.columns])\n",
    "\n",
    "drop_table_query = f\"DROP TABLE IF EXISTS QualifyingDetails;\"\n",
    "cursor.execute(drop_table_query)\n",
    "create_table_query = f\"CREATE TABLE IF NOT EXISTS QualifyingDetails ({columns});\"\n",
    "cursor.execute(create_table_query)\n",
    "\n",
    "for index, row in df.iterrows():\n",
    "    values = tuple(row.values.astype(str))\n",
    "    insert_query = f\"INSERT INTO QualifyingDetails VALUES {values};\"\n",
    "\n",
    "conn.commit()"
   ]
  },
  {
   "cell_type": "code",
   "execution_count": 47,
   "metadata": {},
   "outputs": [],
   "source": [
    "df = pd.read_parquet(\"/Users/ronitguptaaa/Documents/FormulaOne/MartData/QualifyingDetails\")\n",
    "\n",
    "df.fillna(value=np.nan, inplace=True)\n",
    "\n",
    "df.replace({np.nan: \"NULL\"}, inplace=True)\n",
    "\n",
    "columns = \", \".join([f\"`{col}` VARCHAR(255)\" for col in df.columns])\n",
    "\n",
    "drop_table_query = f\"DROP VIEW IF EXISTS vw_QualifyingDetails;\"\n",
    "cursor.execute(drop_table_query)\n",
    "create_table_query = f\"CREATE VIEW vw_QualifyingDetails AS (SELECT * FROM QualifyingDetails);\"\n",
    "cursor.execute(create_table_query)\n",
    "\n",
    "conn.commit()"
   ]
  },
  {
   "cell_type": "markdown",
   "metadata": {},
   "source": [
    "Lap Time Details"
   ]
  },
  {
   "cell_type": "code",
   "execution_count": 40,
   "metadata": {},
   "outputs": [
    {
     "name": "stderr",
     "output_type": "stream",
     "text": [
      "                                                                                \r"
     ]
    }
   ],
   "source": [
    "lap_times_df = spark.read.parquet('/Users/ronitguptaaa/Documents/FormulaOne/StagingData/lap_times', header=True)\n",
    "\n",
    "total_time_df = lap_times_df.groupBy(\"driverid\", \"raceid\") \\\n",
    "    .agg(sum(\"milliseconds\").alias(\"total_milliseconds\"))\n",
    "\n",
    "total_time_df = total_time_df.withColumn(\"total_seconds\", total_time_df[\"total_milliseconds\"] / 1000)\n",
    "\n",
    "total_time_df = total_time_df.withColumn(\"hours\", total_time_df[\"total_seconds\"] / 3600) \\\n",
    "    .withColumn(\"minutes\", (total_time_df[\"total_seconds\"] % 3600) / 60) \\\n",
    "    .withColumn(\"seconds\", total_time_df[\"total_seconds\"] % 60)\n",
    "\n",
    "total_time_df = total_time_df.withColumn(\"total_time\", expr(\"concat_ws(':', lpad(int(hours), 2, '0'), lpad(int(minutes), 2, '0'), lpad(int(seconds), 2, '0'))\"))\n",
    "\n",
    "total_time_df = total_time_df.drop(\"total_milliseconds\", \"total_seconds\", \"hours\", \"minutes\", \"seconds\")\n",
    "\n",
    "result_df = lap_times_df.join(total_time_df, [\"driverid\", \"raceid\"], \"left\")\n",
    "\n",
    "result_df = result_df.select(\"raceid\", \"driverid\", \"total_time\")\n",
    "result_df = result_df.withColumn(\"RaceDriverID\", concat(col(\"raceid\"), lit(\"-\"), col(\"driverid\")))\n",
    "result_df.write.mode('overwrite').format('parquet').options(header=True).save('MartData/LapTimeData')\n"
   ]
  },
  {
   "cell_type": "code",
   "execution_count": 41,
   "metadata": {},
   "outputs": [],
   "source": [
    "df = pd.read_parquet(\"/Users/ronitguptaaa/Documents/FormulaOne/MartData/LapTimeData\")\n",
    "\n",
    "columns = \", \".join([f\"`{col}` VARCHAR(255)\" for col in df.columns])\n",
    "drop_table_query = f\"DROP TABLE IF EXISTS LapTimeData;\"\n",
    "cursor.execute(drop_table_query)\n",
    "create_table_query = f\"CREATE TABLE IF NOT EXISTS LapTimeData ({columns});\"\n",
    "cursor.execute(create_table_query)\n",
    "\n",
    "for index, row in df.iterrows():\n",
    "    values = tuple(row.values)\n",
    "    insert_query = f\"REPLACE INTO LapTimeData VALUES {values};\"\n",
    "    cursor.execute(insert_query)\n",
    "\n",
    "conn.commit()"
   ]
  },
  {
   "cell_type": "code",
   "execution_count": 42,
   "metadata": {},
   "outputs": [],
   "source": [
    "df = pd.read_parquet(\"/Users/ronitguptaaa/Documents/FormulaOne/MartData/LapTimeData\")\n",
    "\n",
    "columns = \", \".join([f\"`{col}` VARCHAR(255)\" for col in df.columns])\n",
    "drop_table_query = f\"DROP VIEW IF EXISTS vw_LapTimeData;\"\n",
    "cursor.execute(drop_table_query)\n",
    "create_table_query = f\"CREATE VIEW vw_LapTimeData AS (SELECT * FROM LapTimeData);\"\n",
    "cursor.execute(create_table_query)\n",
    "\n",
    "conn.commit()"
   ]
  }
 ],
 "metadata": {
  "kernelspec": {
   "display_name": ".venv",
   "language": "python",
   "name": "python3"
  },
  "language_info": {
   "codemirror_mode": {
    "name": "ipython",
    "version": 3
   },
   "file_extension": ".py",
   "mimetype": "text/x-python",
   "name": "python",
   "nbconvert_exporter": "python",
   "pygments_lexer": "ipython3",
   "version": "3.9.16"
  }
 },
 "nbformat": 4,
 "nbformat_minor": 2
}
