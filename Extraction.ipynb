{
 "cells": [
  {
   "cell_type": "code",
   "execution_count": 7,
   "metadata": {},
   "outputs": [],
   "source": [
    "%run Requirements.ipynb"
   ]
  },
  {
   "cell_type": "code",
   "execution_count": 8,
   "metadata": {},
   "outputs": [],
   "source": [
    "%run Configuration.ipynb"
   ]
  },
  {
   "cell_type": "markdown",
   "metadata": {},
   "source": [
    "Extracting Data directly from Kaggle and Storing it (Dynamic)"
   ]
  },
  {
   "cell_type": "code",
   "execution_count": 9,
   "metadata": {},
   "outputs": [
    {
     "name": "stdout",
     "output_type": "stream",
     "text": [
      "Dataset URL: https://www.kaggle.com/datasets/rohanrao/formula-1-world-championship-1950-2020\n"
     ]
    }
   ],
   "source": [
    "file_path = os.path.join(target_folder, file_name)\n",
    "if os.path.exists(file_path):\n",
    "    os.remove(file_path)\n",
    "\n",
    "kaggle.api.dataset_download_files(dataset_name, path=target_folder, unzip=True)\n",
    "\n",
    "df = pd.read_csv(file_path)"
   ]
  },
  {
   "cell_type": "markdown",
   "metadata": {},
   "source": [
    "Setting-Up MySQL Connector"
   ]
  },
  {
   "cell_type": "code",
   "execution_count": 10,
   "metadata": {},
   "outputs": [],
   "source": [
    "conn = mysql.connector.connect(\n",
    "    host='127.0.0.1',\n",
    "    user='root',\n",
    "    password='ronitgupta28',\n",
    "    database='formulaOne'\n",
    ")\n",
    "cursor = conn.cursor()"
   ]
  },
  {
   "cell_type": "markdown",
   "metadata": {},
   "source": [
    "Staging the Raw data directly from CSV to DB"
   ]
  },
  {
   "cell_type": "code",
   "execution_count": 11,
   "metadata": {},
   "outputs": [],
   "source": [
    "file_paths = File_path\n",
    "\n",
    "for file_name, file_path in file_paths.items():\n",
    "    df = pd.read_csv(file_path)\n",
    "\n",
    "    columns = \", \".join([f\"`{col}` VARCHAR(255)\" for col in df.columns])\n",
    "\n",
    "    drop_table_query = f\"DROP TABLE IF EXISTS {file_name};\"\n",
    "    cursor.execute(drop_table_query)\n",
    "\n",
    "    create_table_query = f\"CREATE TABLE IF NOT EXISTS {file_name} ({columns});\"\n",
    "    cursor.execute(create_table_query)\n",
    "\n",
    "    for index, row in df.iterrows():\n",
    "        values = tuple(row.values)\n",
    "        insert_query = f\"REPLACE INTO {file_name} VALUES {values};\"\n",
    "        insert_query = insert_query.replace(\", nan\", \", NULL\")\n",
    "        cursor.execute(insert_query)\n",
    "\n",
    "conn.commit()"
   ]
  },
  {
   "cell_type": "code",
   "execution_count": 12,
   "metadata": {},
   "outputs": [
    {
     "name": "stderr",
     "output_type": "stream",
     "text": [
      "                                                                                \r"
     ]
    }
   ],
   "source": [
    "file_paths = File_path\n",
    "\n",
    "for file_name, file_path in file_paths.items():\n",
    "    df = spark.read.csv(file_path, header=True)\n",
    "    df.write.mode('overwrite').format('parquet').options(header=True).save(\"StagingData/\" + file_name)"
   ]
  }
 ],
 "metadata": {
  "kernelspec": {
   "display_name": ".venv",
   "language": "python",
   "name": "python3"
  },
  "language_info": {
   "codemirror_mode": {
    "name": "ipython",
    "version": 3
   },
   "file_extension": ".py",
   "mimetype": "text/x-python",
   "name": "python",
   "nbconvert_exporter": "python",
   "pygments_lexer": "ipython3",
   "version": "3.9.16"
  }
 },
 "nbformat": 4,
 "nbformat_minor": 2
}
