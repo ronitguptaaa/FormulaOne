{
 "cells": [
  {
   "cell_type": "code",
   "execution_count": 3,
   "metadata": {},
   "outputs": [],
   "source": [
    "import os\n",
    "import pandas as pd\n",
    "import json\n",
    "import kaggle\n",
    "import pyspark\n",
    "from pyspark.sql import SparkSession\n",
    "import mysql.connector\n",
    "from pyspark.sql.functions import col, sum, expr, format_number, from_unixtime\n",
    "\n",
    "spark = SparkSession.builder \\\n",
    "    .appName(\"PySpark SQL Example\") \\\n",
    "    .getOrCreate()"
   ]
  },
  {
   "cell_type": "code",
   "execution_count": 15,
   "metadata": {},
   "outputs": [],
   "source": [
    "kaggle_json_path = \"/Users/ronitguptaaa/Documents/FormulaOne/kaggle.json\"\n",
    "\n",
    "with open(kaggle_json_path, \"r\") as f:\n",
    "    kaggle_credentials = json.load(f)\n",
    "\n",
    "username = kaggle_credentials[\"username\"]\n",
    "key = kaggle_credentials[\"key\"]\n",
    "\n",
    "os.environ[\"KAGGLE_USERNAME\"] = username\n",
    "os.environ[\"KAGGLE_KEY\"] = key"
   ]
  },
  {
   "cell_type": "code",
   "execution_count": 16,
   "metadata": {},
   "outputs": [],
   "source": [
    "dataset_name = \"rohanrao/formula-1-world-championship-1950-2020\"\n",
    "file_name = \"circuits.csv\"\n",
    "target_folder = \"/Users/ronitguptaaa/Documents/FormulaOne/Raw Data\""
   ]
  }
 ],
 "metadata": {
  "kernelspec": {
   "display_name": ".venv",
   "language": "python",
   "name": "python3"
  },
  "language_info": {
   "codemirror_mode": {
    "name": "ipython",
    "version": 3
   },
   "file_extension": ".py",
   "mimetype": "text/x-python",
   "name": "python",
   "nbconvert_exporter": "python",
   "pygments_lexer": "ipython3",
   "version": "3.9.16"
  }
 },
 "nbformat": 4,
 "nbformat_minor": 2
}
